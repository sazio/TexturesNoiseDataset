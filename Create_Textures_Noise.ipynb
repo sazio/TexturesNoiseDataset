{
 "cells": [
  {
   "cell_type": "code",
   "execution_count": 29,
   "id": "1bb11210-3f88-40ec-9bc3-5aa24a716f27",
   "metadata": {},
   "outputs": [],
   "source": [
    "import phase\n",
    "from PIL import Image\n",
    "import matplotlib.pyplot as plt\n",
    "import os\n",
    "from tqdm import tqdm"
   ]
  },
  {
   "cell_type": "code",
   "execution_count": 25,
   "id": "aa15c89e-d436-484b-9fd8-2f14ec27e93b",
   "metadata": {},
   "outputs": [],
   "source": [
    "path_to_val = \"../../..//Data/textures/valid/\" "
   ]
  },
  {
   "cell_type": "code",
   "execution_count": 27,
   "id": "12e5bff1-a6b7-40b5-b0b5-5f5a88950964",
   "metadata": {},
   "outputs": [],
   "source": [
    "dirs_name = os.listdir(path_to_val)"
   ]
  },
  {
   "cell_type": "code",
   "execution_count": 31,
   "id": "a5fab1ef-92e4-474d-a009-59e05cb173c4",
   "metadata": {},
   "outputs": [
    {
     "name": "stderr",
     "output_type": "stream",
     "text": [
      "100%|██████████| 64/64 [02:58<00:00,  2.79s/it]\n"
     ]
    }
   ],
   "source": [
    "newsize = (224, 224)\n",
    "for idx_dir in tqdm(range(0, len(dirs_name))):\n",
    "    files_name = os.listdir(path_to_val + dirs_name[idx_dir] + \"/\")\n",
    "    \n",
    "    for idx_files in range(0, len(files_name)): \n",
    "        im = Image.open( path_to_val + dirs_name[idx_dir] + \"/\" + files_name[idx_files]).resize(newsize)\n",
    "        rp_im = phase.randomise(im, noise='uniform')\n",
    "        pp_im = phase.randomise(im, noise='permute')\n",
    "        \n",
    "        rp_im.save(\"V2_aug/noise/uniform_\" + dirs_name[idx_dir]+ \"_\" + files_name[idx_files])\n",
    "        rp_im.save(\"V2_aug/noise/permute_\" + dirs_name[idx_dir]+ \"_\" + files_name[idx_files])\n",
    "        \n",
    "        \n",
    "        \n",
    "        "
   ]
  },
  {
   "cell_type": "code",
   "execution_count": 32,
   "id": "0a3d2ccf-f135-49c7-9a3e-f4faff9c813d",
   "metadata": {},
   "outputs": [
    {
     "name": "stderr",
     "output_type": "stream",
     "text": [
      "100%|██████████| 64/64 [00:18<00:00,  3.51it/s]\n"
     ]
    }
   ],
   "source": [
    "newsize = (224, 224)\n",
    "for idx_dir in tqdm(range(0, len(dirs_name))):\n",
    "    files_name = os.listdir(path_to_val + dirs_name[idx_dir] + \"/\")\n",
    "    \n",
    "    for idx_files in range(0, len(files_name)): \n",
    "        im = Image.open( path_to_val + dirs_name[idx_dir] + \"/\" + files_name[idx_files]).resize(newsize)\n",
    "        \n",
    "        im.save(\"V2_aug/textures/\"+ dirs_name[idx_dir]+ \"_\" + files_name[idx_files])"
   ]
  },
  {
   "cell_type": "code",
   "execution_count": null,
   "id": "a271286f-420c-4988-9679-be1fd8740711",
   "metadata": {},
   "outputs": [],
   "source": []
  }
 ],
 "metadata": {
  "kernelspec": {
   "display_name": "Python 3",
   "language": "python",
   "name": "python3"
  },
  "language_info": {
   "codemirror_mode": {
    "name": "ipython",
    "version": 3
   },
   "file_extension": ".py",
   "mimetype": "text/x-python",
   "name": "python",
   "nbconvert_exporter": "python",
   "pygments_lexer": "ipython3",
   "version": "3.7.11"
  }
 },
 "nbformat": 4,
 "nbformat_minor": 5
}
